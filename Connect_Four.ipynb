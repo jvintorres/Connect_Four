{
 "cells": [
  {
   "cell_type": "code",
   "execution_count": null,
   "id": "30df2394-903b-4e48-8f51-fc6bd9c875f0",
   "metadata": {},
   "outputs": [],
   "source": [
    "# display board\n",
    "# player input\n",
    "# check_win\n",
    "# space_check\n",
    "# choose_first\n",
    "# place_marker\n",
    "# fullboard check\n",
    "# replay\n",
    "# player choice"
   ]
  },
  {
   "cell_type": "markdown",
   "id": "d33ad2d0-3283-43b5-8dd4-97e1b07b2cb3",
   "metadata": {},
   "source": [
    "### Grid"
   ]
  },
  {
   "cell_type": "code",
   "execution_count": 19,
   "id": "068484cf-e540-4010-9017-03ba85a6bb38",
   "metadata": {},
   "outputs": [
    {
     "name": "stdout",
     "output_type": "stream",
     "text": [
      "|   |   |   |   |   |   |   |\n",
      "+- -+- -+- -+- -+- -+- -+- -+\n",
      "|   |   |   |   |   |   |   |\n",
      "+- -+- -+- -+- -+- -+- -+- -+\n",
      "|   |   |   |   |   |   |   |\n",
      "+- -+- -+- -+- -+- -+- -+- -+\n",
      "|   |   |   |   |   |   |   |\n",
      "+- -+- -+- -+- -+- -+- -+- -+\n",
      "|   |   |   |   |   |   |   |\n",
      "+- -+- -+- -+- -+- -+- -+- -+\n",
      "|   |   |   |   |   |   |   |\n",
      "+---+---+---+---+---+---+---+\n",
      "| A | B | C | D | E | F | G |\n"
     ]
    }
   ],
   "source": [
    "# Initialize the columns of the grid\n",
    "a = [\" \"] * 6\n",
    "b = [\" \"] * 6\n",
    "c = [\" \"] * 6\n",
    "d = [\" \"] * 6\n",
    "e = [\" \"] * 6\n",
    "f = [\" \"] * 6\n",
    "g = [\" \"] * 6\n",
    "\n",
    "# Create the grid\n",
    "grid = [a, b, c, d, e, f, g]\n",
    "\n",
    "def display_grid(grid):\n",
    "    # Print the grid\n",
    "    for row in range(5, -1, -1):  # Loop through rows from bottom to top\n",
    "        row_display = \"|\"\n",
    "        for column in grid:\n",
    "            row_display += f\" {column[row]} |\"  # Format each cell\n",
    "        print(row_display)\n",
    "\n",
    "     # Print the line of underscores after each row except the last one\n",
    "        if row > 0:\n",
    "            print(\"+- -+- -+- -+- -+- -+- -+- -+\")\n",
    "    \n",
    "    # Print the column headers\n",
    "    print(\"+---+---+---+---+---+---+---+\")\n",
    "    print(\"| A | B | C | D | E | F | G |\")  # Column indices\n",
    "\n",
    "# Call the function to display the grid\n",
    "display_grid(grid)\n"
   ]
  },
  {
   "cell_type": "code",
   "execution_count": null,
   "id": "8aca396b-8054-4adb-87f7-4bcfa847103c",
   "metadata": {},
   "outputs": [],
   "source": []
  },
  {
   "cell_type": "code",
   "execution_count": 22,
   "id": "ae8ce27b-78d6-48b9-92d5-c5cfb991b490",
   "metadata": {},
   "outputs": [
    {
     "name": "stdout",
     "output_type": "stream",
     "text": [
      "Collecting emoji\n",
      "  Downloading emoji-2.14.0-py3-none-any.whl.metadata (5.7 kB)\n",
      "Downloading emoji-2.14.0-py3-none-any.whl (586 kB)\n",
      "\u001b[2K   \u001b[90m━━━━━━━━━━━━━━━━━━━━━━━━━━━━━━━━━━━━━━━━\u001b[0m \u001b[32m586.9/586.9 kB\u001b[0m \u001b[31m4.9 MB/s\u001b[0m eta \u001b[36m0:00:00\u001b[0m00:01\u001b[0m00:01\u001b[0m\n",
      "\u001b[?25hInstalling collected packages: emoji\n",
      "Successfully installed emoji-2.14.0\n",
      "Note: you may need to restart the kernel to use updated packages.\n"
     ]
    }
   ],
   "source": [
    "pip install emoji"
   ]
  },
  {
   "cell_type": "markdown",
   "id": "40632216-fed1-47ca-ac1e-adfac7f42bf4",
   "metadata": {},
   "source": [
    "### Player input"
   ]
  },
  {
   "cell_type": "code",
   "execution_count": 24,
   "id": "d17b5dd1-3b46-4290-adfe-de7a23601f71",
   "metadata": {},
   "outputs": [
    {
     "name": "stdout",
     "output_type": "stream",
     "text": [
      "🔴\n",
      "🟡\n"
     ]
    }
   ],
   "source": [
    "import emoji\n",
    "\n",
    "# define red and yellow variables\n",
    "\n",
    "red_circle = emoji.emojize(\":red_circle:\")\n",
    "yellow_circle = emoji.emojize(\":yellow_circle:\")\n",
    "\n",
    "\n",
    "# convert the variables to strings\n",
    "red = str(red_circle)\n",
    "yellow = str(yellow_circle) \n",
    "\n",
    "print(red)\n",
    "print(yellow)"
   ]
  },
  {
   "cell_type": "code",
   "execution_count": 25,
   "id": "33e3e2e8-5a58-483e-be81-fff5f714b3bd",
   "metadata": {},
   "outputs": [],
   "source": [
    "def player_input():\n",
    "    \n",
    "    token = \"\"\n",
    "\n",
    "    while not (token == \"red\" or token == \"yellow\"):\n",
    "        token = input(\"Player 1: Do you want to be Yellow or Red\").lower() \n",
    "\n",
    "    if token == \"red\": \n",
    "        return (red_circle, yellow_circle)\n",
    "    else: return (yellow_circle, red_circle)\n",
    "    \n",
    "#my output doesn't recognize token "
   ]
  },
  {
   "cell_type": "code",
   "execution_count": 31,
   "id": "f29aa575-9bae-4784-9a64-7f7c3b4bb5ff",
   "metadata": {},
   "outputs": [
    {
     "name": "stdin",
     "output_type": "stream",
     "text": [
      "Player 1: Do you want to be Yellow or Red red\n"
     ]
    },
    {
     "data": {
      "text/plain": [
       "('🔴', '🟡')"
      ]
     },
     "execution_count": 31,
     "metadata": {},
     "output_type": "execute_result"
    }
   ],
   "source": [
    "player_input()"
   ]
  },
  {
   "cell_type": "code",
   "execution_count": 72,
   "id": "4068fe08-558a-432a-9d2d-edbbf6bbe193",
   "metadata": {},
   "outputs": [],
   "source": [
    "#print(red_circle)  # Outputs: 🔴\n",
    "#print(yellow_circle)  # Outputs: 🟡"
   ]
  },
  {
   "cell_type": "code",
   "execution_count": null,
   "id": "408e2188-7494-4d34-973f-7b9df027d11d",
   "metadata": {},
   "outputs": [],
   "source": []
  },
  {
   "cell_type": "markdown",
   "id": "68d0d9e6-f379-4751-8860-f8bc1c7faa6b",
   "metadata": {},
   "source": [
    "### Choose First"
   ]
  },
  {
   "cell_type": "code",
   "execution_count": 33,
   "id": "a8e604b0-ca03-42a0-a9de-9afc7b43ba59",
   "metadata": {},
   "outputs": [],
   "source": [
    "import random \n",
    "\n",
    "def choose_first():\n",
    "    if random.randint(0,1) == 0: \n",
    "        return \"Player 1\"\n",
    "    else: \n",
    "        return \"Player 2\""
   ]
  },
  {
   "cell_type": "code",
   "execution_count": 90,
   "id": "f4c244d2-34f8-4a49-96d6-81bbd47ba19e",
   "metadata": {},
   "outputs": [
    {
     "name": "stdout",
     "output_type": "stream",
     "text": [
      "Player 1\n",
      "Player 1\n",
      "Player 2\n",
      "Player 1\n",
      "Player 2\n",
      "Player 2\n",
      "Player 2\n",
      "Player 1\n",
      "Player 1\n",
      "Player 2\n"
     ]
    }
   ],
   "source": [
    "for i in range(10):\n",
    "    print(choose_first())"
   ]
  },
  {
   "cell_type": "markdown",
   "id": "1693674a-5b25-445f-88de-dc4de2c075d2",
   "metadata": {},
   "source": [
    "# Player_choice"
   ]
  },
  {
   "cell_type": "code",
   "execution_count": null,
   "id": "14ca2725-dce1-422e-8cf7-8a0822fd61b0",
   "metadata": {},
   "outputs": [],
   "source": [
    "def player_choice(gird):\n",
    "    \n",
    "    position = 0\n",
    "\n",
    "    while position not in list(range(A,G)) or not space_check(gird, position):\n",
    "        position = int(input(\"Choose your column:(A-G)\"))\n",
    "\n",
    "    return position"
   ]
  },
  {
   "cell_type": "code",
   "execution_count": null,
   "id": "9c9b7b71-7632-433d-b06d-9ec53ce02d53",
   "metadata": {},
   "outputs": [],
   "source": []
  },
  {
   "cell_type": "code",
   "execution_count": null,
   "id": "71ce7242-0690-426b-97d6-a426715ddeb9",
   "metadata": {},
   "outputs": [],
   "source": []
  },
  {
   "cell_type": "markdown",
   "id": "fb8adfb9-3022-4aa3-bbc6-e269e6001a2a",
   "metadata": {},
   "source": [
    "### Place Marker"
   ]
  },
  {
   "cell_type": "code",
   "execution_count": 57,
   "id": "3dcf6979-34a5-48b1-9508-6dc02b8fed0c",
   "metadata": {},
   "outputs": [
    {
     "ename": "TypeError",
     "evalue": "list indices must be integers or slices, not str",
     "output_type": "error",
     "traceback": [
      "\u001b[0;31m---------------------------------------------------------------------------\u001b[0m",
      "\u001b[0;31mTypeError\u001b[0m                                 Traceback (most recent call last)",
      "Cell \u001b[0;32mIn[57], line 4\u001b[0m\n\u001b[1;32m      1\u001b[0m column \u001b[38;5;241m=\u001b[39m[{\u001b[38;5;124m'\u001b[39m\u001b[38;5;124mA\u001b[39m\u001b[38;5;124m'\u001b[39m: \u001b[38;5;241m0\u001b[39m}, {\u001b[38;5;124m'\u001b[39m\u001b[38;5;124mB\u001b[39m\u001b[38;5;124m'\u001b[39m: \u001b[38;5;241m1\u001b[39m}, {\u001b[38;5;124m'\u001b[39m\u001b[38;5;124mC\u001b[39m\u001b[38;5;124m'\u001b[39m: \u001b[38;5;241m2\u001b[39m}, {\u001b[38;5;124m'\u001b[39m\u001b[38;5;124mD\u001b[39m\u001b[38;5;124m'\u001b[39m: \u001b[38;5;241m3\u001b[39m}, {\u001b[38;5;124m'\u001b[39m\u001b[38;5;124mE\u001b[39m\u001b[38;5;124m'\u001b[39m: \u001b[38;5;241m4\u001b[39m}, {\u001b[38;5;124m'\u001b[39m\u001b[38;5;124mF\u001b[39m\u001b[38;5;124m'\u001b[39m: \u001b[38;5;241m5\u001b[39m}, {\u001b[38;5;124m'\u001b[39m\u001b[38;5;124mG\u001b[39m\u001b[38;5;124m'\u001b[39m: \u001b[38;5;241m6\u001b[39m}]\n\u001b[1;32m      3\u001b[0m \u001b[38;5;66;03m# Example usage\u001b[39;00m\n\u001b[0;32m----> 4\u001b[0m \u001b[38;5;28mprint\u001b[39m(column[\u001b[38;5;124m'\u001b[39m\u001b[38;5;124mA\u001b[39m\u001b[38;5;124m'\u001b[39m])\n",
      "\u001b[0;31mTypeError\u001b[0m: list indices must be integers or slices, not str"
     ]
    }
   ],
   "source": [
    "\n",
    "column =[{'A': 0}, {'B': 1}, {'C': 2}, {'D': 3}, {'E': 4}, {'F': 5}, {'G': 6}]\n",
    "\n",
    "# Example usage\n",
    "print(column['A'])  # Output: 0\n",
    "\n"
   ]
  },
  {
   "cell_type": "code",
   "execution_count": 61,
   "id": "583eb232-9172-4d7d-98ea-acc83df9cc5c",
   "metadata": {},
   "outputs": [
    {
     "name": "stdout",
     "output_type": "stream",
     "text": [
      "0\n",
      "6\n"
     ]
    }
   ],
   "source": [
    "letter_to_index_map = {\n",
    "    'A': 0,\n",
    "    'B': 1,\n",
    "    'C': 2,\n",
    "    'D': 3,\n",
    "    'E': 4,\n",
    "    'F': 5,\n",
    "    'G': 6\n",
    "}\n",
    "\n",
    "# Example usage\n",
    "print(letter_to_index_map['A'])  # Output: 0\n",
    "print(letter_to_index_map['G'])  # Output: 6\n"
   ]
  },
  {
   "cell_type": "code",
   "execution_count": 65,
   "id": "c54d5488-cc7d-4aa2-b2eb-8f4f514c68df",
   "metadata": {},
   "outputs": [
    {
     "data": {
      "text/plain": [
       "0"
      ]
     },
     "execution_count": 65,
     "metadata": {},
     "output_type": "execute_result"
    }
   ],
   "source": [
    "letter_to_index_map['A']"
   ]
  },
  {
   "cell_type": "code",
   "execution_count": null,
   "id": "dade74f2-4ea0-4d94-a9fc-2174623b6a7a",
   "metadata": {},
   "outputs": [],
   "source": []
  },
  {
   "cell_type": "code",
   "execution_count": 37,
   "id": "b21b57d3-51c9-4741-8c3f-5310e5a02081",
   "metadata": {},
   "outputs": [
    {
     "name": "stdout",
     "output_type": "stream",
     "text": [
      "[' ', ' ', ' ', ' ', ' ', ' ']\n"
     ]
    }
   ],
   "source": [
    "column_A = grid[0]\n",
    "column_B\n",
    "\n",
    "column"
   ]
  },
  {
   "cell_type": "code",
   "execution_count": 94,
   "id": "b1c4a47e-dc89-4738-8c05-50c341a6577c",
   "metadata": {},
   "outputs": [],
   "source": [
    "def place_marker(grid, marker, letter): \n",
    "    grid[letter] = marker "
   ]
  },
  {
   "cell_type": "code",
   "execution_count": null,
   "id": "5cf42a6b-b82f-47ee-a1ea-917cbb29214b",
   "metadata": {},
   "outputs": [],
   "source": []
  },
  {
   "cell_type": "code",
   "execution_count": null,
   "id": "6d6bb579-7a07-4f87-b035-11786a9bbc30",
   "metadata": {},
   "outputs": [],
   "source": []
  },
  {
   "cell_type": "markdown",
   "id": "e2c3547f-3481-43e0-bc40-d60e0766fdf2",
   "metadata": {},
   "source": [
    "### Column Function "
   ]
  },
  {
   "cell_type": "code",
   "execution_count": 15,
   "id": "fd9cc5a3-934d-460f-a902-e2c7f2603eca",
   "metadata": {},
   "outputs": [],
   "source": [
    "def column():\n",
    "    for i in column:\n",
    "        i in range(0,5)\n",
    "            \n",
    "        while column[i] != \" \":\n",
    "            place_marker(grid) == column[i-1]\n",
    "        while column[i] == \" \":\n",
    "                place_marker(grid) == column[i]\n",
    "            \n",
    "        # if i =5"
   ]
  },
  {
   "cell_type": "code",
   "execution_count": 9,
   "id": "87ab11f4-5a20-4e00-a552-8b27f9a600ab",
   "metadata": {},
   "outputs": [
    {
     "ename": "TypeError",
     "evalue": "column() takes 0 positional arguments but 1 was given",
     "output_type": "error",
     "traceback": [
      "\u001b[0;31m---------------------------------------------------------------------------\u001b[0m",
      "\u001b[0;31mTypeError\u001b[0m                                 Traceback (most recent call last)",
      "Cell \u001b[0;32mIn[9], line 1\u001b[0m\n\u001b[0;32m----> 1\u001b[0m column (\u001b[38;5;241m5\u001b[39m)\n",
      "\u001b[0;31mTypeError\u001b[0m: column() takes 0 positional arguments but 1 was given"
     ]
    }
   ],
   "source": [
    "column()"
   ]
  },
  {
   "cell_type": "code",
   "execution_count": null,
   "id": "10d8f4f7-c4bd-4a32-bd2d-72a40a73661a",
   "metadata": {},
   "outputs": [],
   "source": []
  },
  {
   "cell_type": "markdown",
   "id": "b49b65cc-5bbb-4691-8d6a-1daf152fea89",
   "metadata": {},
   "source": [
    "### Win Check"
   ]
  },
  {
   "cell_type": "markdown",
   "id": "23310ba4-5c9e-4ac7-a7f0-be982602f010",
   "metadata": {},
   "source": [
    "### Full Grid Check "
   ]
  },
  {
   "cell_type": "markdown",
   "id": "1ccc873c-dfbf-438c-a378-4216b82f2429",
   "metadata": {},
   "source": [
    "### Space Check"
   ]
  },
  {
   "cell_type": "code",
   "execution_count": 43,
   "id": "11953ef4-a8f6-48df-854a-931d1d125cf2",
   "metadata": {},
   "outputs": [],
   "source": [
    "def space_check(grid, position):  ### True if the space is not occupied\n",
    "    return grid[position] == \" \""
   ]
  },
  {
   "cell_type": "code",
   "execution_count": 53,
   "id": "78d74d9b-ce7c-4bdc-93bb-292dffbb7a75",
   "metadata": {},
   "outputs": [
    {
     "data": {
      "text/plain": [
       "False"
      ]
     },
     "execution_count": 53,
     "metadata": {},
     "output_type": "execute_result"
    }
   ],
   "source": [
    "space_check(grid, 3)"
   ]
  },
  {
   "cell_type": "markdown",
   "id": "cda19a1f-4e5b-4d30-bd8a-a069789ed9dd",
   "metadata": {},
   "source": [
    "### Replay"
   ]
  },
  {
   "cell_type": "code",
   "execution_count": null,
   "id": "a59864fa-2b91-4561-8fe0-e07544f92870",
   "metadata": {},
   "outputs": [],
   "source": []
  },
  {
   "cell_type": "markdown",
   "id": "6c8333e1-c5aa-4be0-9435-a324a85af982",
   "metadata": {},
   "source": [
    "### Playing Connect Four"
   ]
  },
  {
   "cell_type": "code",
   "execution_count": null,
   "id": "d781d159-b62c-47c8-b0f4-7e227aa14ae8",
   "metadata": {},
   "outputs": [],
   "source": []
  }
 ],
 "metadata": {
  "kernelspec": {
   "display_name": "Python 3 (ipykernel)",
   "language": "python",
   "name": "python3"
  },
  "language_info": {
   "codemirror_mode": {
    "name": "ipython",
    "version": 3
   },
   "file_extension": ".py",
   "mimetype": "text/x-python",
   "name": "python",
   "nbconvert_exporter": "python",
   "pygments_lexer": "ipython3",
   "version": "3.12.4"
  }
 },
 "nbformat": 4,
 "nbformat_minor": 5
}
