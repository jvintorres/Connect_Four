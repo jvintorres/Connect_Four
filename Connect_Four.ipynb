{
 "cells": [
  {
   "cell_type": "code",
   "execution_count": null,
   "id": "30df2394-903b-4e48-8f51-fc6bd9c875f0",
   "metadata": {},
   "outputs": [],
   "source": [
    "# display board\n",
    "# player input\n",
    "# check_win\n",
    "# space_check\n",
    "# choose_first\n",
    "# place_marker\n",
    "# fullboard check\n",
    "# replay\n",
    "# player choice"
   ]
  },
  {
   "cell_type": "markdown",
   "id": "d33ad2d0-3283-43b5-8dd4-97e1b07b2cb3",
   "metadata": {},
   "source": [
    "### Grid"
   ]
  },
  {
   "cell_type": "code",
   "execution_count": 33,
   "id": "068484cf-e540-4010-9017-03ba85a6bb38",
   "metadata": {},
   "outputs": [
    {
     "name": "stdout",
     "output_type": "stream",
     "text": [
      "|   |   |   |   |   |   |   |\n",
      "+- -+- -+- -+- -+- -+- -+- -+\n",
      "|   |   |   |   |   |   |   |\n",
      "+- -+- -+- -+- -+- -+- -+- -+\n",
      "|   |   |   |   |   |   |   |\n",
      "+- -+- -+- -+- -+- -+- -+- -+\n",
      "|   |   |   |   |   |   |   |\n",
      "+- -+- -+- -+- -+- -+- -+- -+\n",
      "|   |   |   |   |   |   |   |\n",
      "+- -+- -+- -+- -+- -+- -+- -+\n",
      "|   |   |   |   |   |   |   |\n",
      "+---+---+---+---+---+---+---+\n",
      "| A | B | C | D | E | F | G |\n"
     ]
    }
   ],
   "source": [
    "# Initialize the columns of the grid\n",
    "a = [\" \"] * 6\n",
    "b = [\" \"] * 6\n",
    "c = [\" \"] * 6\n",
    "d = [\" \"] * 6\n",
    "e = [\" \"] * 6\n",
    "f = [\" \"] * 6\n",
    "g = [\" \"] * 6\n",
    "\n",
    "# Create the grid\n",
    "grid = [a, b, c, d, e, f, g]\n",
    "\n",
    "def display_grid(grid):\n",
    "    # Print the grid\n",
    "    for row in range(5, -1, -1):  # Loop through rows from bottom to top\n",
    "        row_display = \"|\"\n",
    "        for column in grid:\n",
    "            row_display += f\" {column[row]} |\"  # Format each cell\n",
    "        print(row_display)\n",
    "\n",
    "     # Print the line of underscores after each row except the last one\n",
    "        if row > 0:\n",
    "            print(\"+- -+- -+- -+- -+- -+- -+- -+\")\n",
    "    \n",
    "    # Print the column headers\n",
    "    print(\"+---+---+---+---+---+---+---+\")\n",
    "    print(\"| A | B | C | D | E | F | G |\")  # Column indices\n",
    "\n",
    "# Call the function to display the grid\n",
    "display_grid(grid)\n"
   ]
  },
  {
   "cell_type": "code",
   "execution_count": 49,
   "id": "ae8ce27b-78d6-48b9-92d5-c5cfb991b490",
   "metadata": {},
   "outputs": [
    {
     "name": "stdout",
     "output_type": "stream",
     "text": [
      "Requirement already satisfied: emoji in /Applications/anaconda3/lib/python3.12/site-packages (2.14.0)\n",
      "Note: you may need to restart the kernel to use updated packages.\n"
     ]
    }
   ],
   "source": [
    "pip install emoji"
   ]
  },
  {
   "cell_type": "markdown",
   "id": "40632216-fed1-47ca-ac1e-adfac7f42bf4",
   "metadata": {},
   "source": [
    "### Player input"
   ]
  },
  {
   "cell_type": "code",
   "execution_count": 76,
   "id": "d17b5dd1-3b46-4290-adfe-de7a23601f71",
   "metadata": {},
   "outputs": [
    {
     "name": "stdout",
     "output_type": "stream",
     "text": [
      "🔴\n",
      "🟡\n"
     ]
    }
   ],
   "source": [
    "import emoji\n",
    "\n",
    "# define red and yellow variables\n",
    "\n",
    "red_circle = emoji.emojize(\":red_circle:\")\n",
    "yellow_circle = emoji.emojize(\":yellow_circle:\")\n",
    "\n",
    "\n",
    "# convert the variables to strings\n",
    "red = str(red_circle)\n",
    "yellow = str(yellow_circle) \n",
    "\n",
    "print(red)\n",
    "print(yellow)"
   ]
  },
  {
   "cell_type": "code",
   "execution_count": 84,
   "id": "33e3e2e8-5a58-483e-be81-fff5f714b3bd",
   "metadata": {},
   "outputs": [],
   "source": [
    "def player_input():\n",
    "    \n",
    "    token = \"\"\n",
    "\n",
    "    while not (token == \"red\" or token == \"yellow\"):\n",
    "        token = input(\"Player 1: Do you want to be Yellow or Red\").lower() \n",
    "\n",
    "    if token == \"red\": \n",
    "        return (red_circle, yellow_circle)\n",
    "    else: return (yellow_circle, red_circle)\n",
    "    \n",
    "#my output doesn't recognize token "
   ]
  },
  {
   "cell_type": "code",
   "execution_count": 86,
   "id": "f29aa575-9bae-4784-9a64-7f7c3b4bb5ff",
   "metadata": {},
   "outputs": [
    {
     "name": "stdin",
     "output_type": "stream",
     "text": [
      "Player 1: Do you want to be Yellow or Red yellow\n"
     ]
    },
    {
     "data": {
      "text/plain": [
       "('🟡', '🔴')"
      ]
     },
     "execution_count": 86,
     "metadata": {},
     "output_type": "execute_result"
    }
   ],
   "source": [
    "player_input()"
   ]
  },
  {
   "cell_type": "code",
   "execution_count": 72,
   "id": "4068fe08-558a-432a-9d2d-edbbf6bbe193",
   "metadata": {},
   "outputs": [],
   "source": [
    "#print(red_circle)  # Outputs: 🔴\n",
    "#print(yellow_circle)  # Outputs: 🟡"
   ]
  },
  {
   "cell_type": "code",
   "execution_count": null,
   "id": "408e2188-7494-4d34-973f-7b9df027d11d",
   "metadata": {},
   "outputs": [],
   "source": []
  },
  {
   "cell_type": "markdown",
   "id": "68d0d9e6-f379-4751-8860-f8bc1c7faa6b",
   "metadata": {},
   "source": [
    "### Choose First"
   ]
  },
  {
   "cell_type": "code",
   "execution_count": 88,
   "id": "a8e604b0-ca03-42a0-a9de-9afc7b43ba59",
   "metadata": {},
   "outputs": [],
   "source": [
    "import random \n",
    "\n",
    "def choose_first():\n",
    "    if random.randint(0,1) == 0: \n",
    "        return \"Player 1\"\n",
    "    else: \n",
    "        return \"Player 2\""
   ]
  },
  {
   "cell_type": "code",
   "execution_count": 90,
   "id": "f4c244d2-34f8-4a49-96d6-81bbd47ba19e",
   "metadata": {},
   "outputs": [
    {
     "name": "stdout",
     "output_type": "stream",
     "text": [
      "Player 1\n",
      "Player 1\n",
      "Player 2\n",
      "Player 1\n",
      "Player 2\n",
      "Player 2\n",
      "Player 2\n",
      "Player 1\n",
      "Player 1\n",
      "Player 2\n"
     ]
    }
   ],
   "source": [
    "for i in range(10):\n",
    "    print(choose_first())"
   ]
  },
  {
   "cell_type": "markdown",
   "id": "fb8adfb9-3022-4aa3-bbc6-e269e6001a2a",
   "metadata": {},
   "source": [
    "### Place Marker"
   ]
  },
  {
   "cell_type": "code",
   "execution_count": 94,
   "id": "b1c4a47e-dc89-4738-8c05-50c341a6577c",
   "metadata": {},
   "outputs": [],
   "source": [
    "#def place_marker(grid): \n",
    "    #grid[column] = marker "
   ]
  },
  {
   "cell_type": "markdown",
   "id": "e2c3547f-3481-43e0-bc40-d60e0766fdf2",
   "metadata": {},
   "source": [
    "### Column Function "
   ]
  },
  {
   "cell_type": "code",
   "execution_count": 100,
   "id": "fd9cc5a3-934d-460f-a902-e2c7f2603eca",
   "metadata": {},
   "outputs": [
    {
     "name": "stdout",
     "output_type": "stream",
     "text": [
      "[' ', ' ', ' ', ' ', ' ', ' ']\n",
      "[' ', ' ', ' ', ' ', ' ', ' ']\n",
      "[' ', ' ', ' ', ' ', ' ', ' ']\n",
      "[' ', ' ', ' ', ' ', ' ', ' ']\n",
      "[' ', ' ', ' ', ' ', ' ', ' ']\n",
      "[' ', ' ', ' ', ' ', ' ', ' ']\n",
      "[' ', ' ', ' ', ' ', ' ', ' ']\n"
     ]
    }
   ],
   "source": [
    "for i in grid:\n",
    "    print(i)"
   ]
  },
  {
   "cell_type": "code",
   "execution_count": null,
   "id": "87ab11f4-5a20-4e00-a552-8b27f9a600ab",
   "metadata": {},
   "outputs": [],
   "source": [
    "for i in grid:\n",
    "    print(i)"
   ]
  },
  {
   "cell_type": "code",
   "execution_count": null,
   "id": "10d8f4f7-c4bd-4a32-bd2d-72a40a73661a",
   "metadata": {},
   "outputs": [],
   "source": []
  },
  {
   "cell_type": "markdown",
   "id": "b49b65cc-5bbb-4691-8d6a-1daf152fea89",
   "metadata": {},
   "source": [
    "### Win Check"
   ]
  },
  {
   "cell_type": "markdown",
   "id": "23310ba4-5c9e-4ac7-a7f0-be982602f010",
   "metadata": {},
   "source": [
    "### Full Grid Check "
   ]
  },
  {
   "cell_type": "markdown",
   "id": "1ccc873c-dfbf-438c-a378-4216b82f2429",
   "metadata": {},
   "source": [
    "### Space Check"
   ]
  },
  {
   "cell_type": "markdown",
   "id": "cda19a1f-4e5b-4d30-bd8a-a069789ed9dd",
   "metadata": {},
   "source": [
    "### Replay"
   ]
  },
  {
   "cell_type": "markdown",
   "id": "6c8333e1-c5aa-4be0-9435-a324a85af982",
   "metadata": {},
   "source": [
    "### Playing Connect Four"
   ]
  },
  {
   "cell_type": "code",
   "execution_count": null,
   "id": "d781d159-b62c-47c8-b0f4-7e227aa14ae8",
   "metadata": {},
   "outputs": [],
   "source": []
  }
 ],
 "metadata": {
  "kernelspec": {
   "display_name": "Python 3 (ipykernel)",
   "language": "python",
   "name": "python3"
  },
  "language_info": {
   "codemirror_mode": {
    "name": "ipython",
    "version": 3
   },
   "file_extension": ".py",
   "mimetype": "text/x-python",
   "name": "python",
   "nbconvert_exporter": "python",
   "pygments_lexer": "ipython3",
   "version": "3.12.4"
  }
 },
 "nbformat": 4,
 "nbformat_minor": 5
}
