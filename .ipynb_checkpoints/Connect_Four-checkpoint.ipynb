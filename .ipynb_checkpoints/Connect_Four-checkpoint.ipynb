{
 "cells": [
  {
   "cell_type": "code",
   "execution_count": null,
   "id": "30df2394-903b-4e48-8f51-fc6bd9c875f0",
   "metadata": {},
   "outputs": [],
   "source": [
    "# display board\n",
    "# player input\n",
    "# check_win\n",
    "# space_check\n",
    "# choose_first\n",
    "# place_marker\n",
    "# fullboard check\n",
    "# replay\n",
    "# player choice"
   ]
  },
  {
   "cell_type": "markdown",
   "id": "d33ad2d0-3283-43b5-8dd4-97e1b07b2cb3",
   "metadata": {},
   "source": [
    "### Grid"
   ]
  },
  {
   "cell_type": "code",
   "execution_count": 336,
   "id": "068484cf-e540-4010-9017-03ba85a6bb38",
   "metadata": {},
   "outputs": [
    {
     "name": "stdout",
     "output_type": "stream",
     "text": [
      "|   |   |   |   |   |   |   |\n",
      "+- -+- -+- -+- -+- -+- -+- -+\n",
      "|   |   |   |   |   |   |   |\n",
      "+- -+- -+- -+- -+- -+- -+- -+\n",
      "|   |   |   |   |   |   |   |\n",
      "+- -+- -+- -+- -+- -+- -+- -+\n",
      "|   |   |   |   |   |   |   |\n",
      "+- -+- -+- -+- -+- -+- -+- -+\n",
      "|   |   |   |   |   |   |   |\n",
      "+- -+- -+- -+- -+- -+- -+- -+\n",
      "|   |   |   |   |   |   |   |\n",
      "+---+---+---+---+---+---+---+\n",
      "| A | B | C | D | E | F | G |\n"
     ]
    }
   ],
   "source": [
    "# Initialize the columns of the grid\n",
    "a = [\" \"] * 6\n",
    "b = [\" \"] * 6\n",
    "c = [\" \"] * 6\n",
    "d = [\" \"] * 6\n",
    "e = [\" \"] * 6\n",
    "f = [\" \"] * 6\n",
    "g = [\" \"] * 6\n",
    "\n",
    "# Create the grid\n",
    "grid = [a, b, c, d, e, f, g]\n",
    "\n",
    "def display_grid(grid):\n",
    "    # Print the grid\n",
    "    for row in range(5, -1, -1):  # Loop through rows from bottom to top\n",
    "        row_display = \"|\"\n",
    "        for column in grid:\n",
    "            row_display += f\" {column[row]} |\"  # Format each cell\n",
    "        print(row_display)\n",
    "\n",
    "     # Print the line of underscores after each row except the last one\n",
    "        if row > 0:\n",
    "            print(\"+- -+- -+- -+- -+- -+- -+- -+\")\n",
    "    \n",
    "    # Print the column headers\n",
    "    print(\"+---+---+---+---+---+---+---+\")\n",
    "    print(\"| A | B | C | D | E | F | G |\")  # Column indices\n",
    "\n",
    "# Call the function to display the grid\n",
    "display_grid(grid)\n"
   ]
  },
  {
   "cell_type": "code",
   "execution_count": null,
   "id": "8aca396b-8054-4adb-87f7-4bcfa847103c",
   "metadata": {},
   "outputs": [],
   "source": []
  },
  {
   "cell_type": "code",
   "execution_count": 22,
   "id": "ae8ce27b-78d6-48b9-92d5-c5cfb991b490",
   "metadata": {},
   "outputs": [
    {
     "name": "stdout",
     "output_type": "stream",
     "text": [
      "Collecting emoji\n",
      "  Downloading emoji-2.14.0-py3-none-any.whl.metadata (5.7 kB)\n",
      "Downloading emoji-2.14.0-py3-none-any.whl (586 kB)\n",
      "\u001b[2K   \u001b[90m━━━━━━━━━━━━━━━━━━━━━━━━━━━━━━━━━━━━━━━━\u001b[0m \u001b[32m586.9/586.9 kB\u001b[0m \u001b[31m4.9 MB/s\u001b[0m eta \u001b[36m0:00:00\u001b[0m00:01\u001b[0m00:01\u001b[0m\n",
      "\u001b[?25hInstalling collected packages: emoji\n",
      "Successfully installed emoji-2.14.0\n",
      "Note: you may need to restart the kernel to use updated packages.\n"
     ]
    }
   ],
   "source": [
    "pip install emoji"
   ]
  },
  {
   "cell_type": "markdown",
   "id": "40632216-fed1-47ca-ac1e-adfac7f42bf4",
   "metadata": {},
   "source": [
    "### Player input"
   ]
  },
  {
   "cell_type": "code",
   "execution_count": 260,
   "id": "d17b5dd1-3b46-4290-adfe-de7a23601f71",
   "metadata": {},
   "outputs": [
    {
     "name": "stdout",
     "output_type": "stream",
     "text": [
      "🔴\n",
      "🟡\n"
     ]
    }
   ],
   "source": [
    "import emoji\n",
    "\n",
    "# define red and yellow variables\n",
    "\n",
    "red_circle = emoji.emojize(\":red_circle:\")\n",
    "yellow_circle = emoji.emojize(\":yellow_circle:\")\n",
    "\n",
    "\n",
    "# convert the variables to strings\n",
    "red = str(red_circle)\n",
    "yellow = str(yellow_circle) \n",
    "\n",
    "print(red)\n",
    "print(yellow)"
   ]
  },
  {
   "cell_type": "code",
   "execution_count": 262,
   "id": "33e3e2e8-5a58-483e-be81-fff5f714b3bd",
   "metadata": {},
   "outputs": [],
   "source": [
    "def player_input():\n",
    "    \n",
    "    token = \"\"\n",
    "\n",
    "    while not (token == \"red\" or token == \"yellow\"):\n",
    "        token = input(\"Player 1: Do you want to be Yellow or Red\").lower() \n",
    "\n",
    "    if token == \"red\": \n",
    "        return (red_circle, yellow_circle)\n",
    "    else: return (yellow_circle, red_circle)\n",
    "    \n",
    "#my output doesn't recognize token "
   ]
  },
  {
   "cell_type": "code",
   "execution_count": 31,
   "id": "f29aa575-9bae-4784-9a64-7f7c3b4bb5ff",
   "metadata": {},
   "outputs": [
    {
     "name": "stdin",
     "output_type": "stream",
     "text": [
      "Player 1: Do you want to be Yellow or Red red\n"
     ]
    },
    {
     "data": {
      "text/plain": [
       "('🔴', '🟡')"
      ]
     },
     "execution_count": 31,
     "metadata": {},
     "output_type": "execute_result"
    }
   ],
   "source": [
    "player_input()"
   ]
  },
  {
   "cell_type": "code",
   "execution_count": 72,
   "id": "4068fe08-558a-432a-9d2d-edbbf6bbe193",
   "metadata": {},
   "outputs": [],
   "source": [
    "#print(red_circle)  # Outputs: 🔴\n",
    "#print(yellow_circle)  # Outputs: 🟡"
   ]
  },
  {
   "cell_type": "code",
   "execution_count": null,
   "id": "408e2188-7494-4d34-973f-7b9df027d11d",
   "metadata": {},
   "outputs": [],
   "source": []
  },
  {
   "cell_type": "markdown",
   "id": "68d0d9e6-f379-4751-8860-f8bc1c7faa6b",
   "metadata": {},
   "source": [
    "### Choose First"
   ]
  },
  {
   "cell_type": "code",
   "execution_count": 264,
   "id": "a8e604b0-ca03-42a0-a9de-9afc7b43ba59",
   "metadata": {},
   "outputs": [],
   "source": [
    "import random \n",
    "\n",
    "def choose_first():\n",
    "    if random.randint(0,1) == 0: \n",
    "        return \"Player 1\"\n",
    "    else: \n",
    "        return \"Player 2\""
   ]
  },
  {
   "cell_type": "code",
   "execution_count": 90,
   "id": "f4c244d2-34f8-4a49-96d6-81bbd47ba19e",
   "metadata": {},
   "outputs": [
    {
     "name": "stdout",
     "output_type": "stream",
     "text": [
      "Player 1\n",
      "Player 1\n",
      "Player 2\n",
      "Player 1\n",
      "Player 2\n",
      "Player 2\n",
      "Player 2\n",
      "Player 1\n",
      "Player 1\n",
      "Player 2\n"
     ]
    }
   ],
   "source": [
    "for i in range(10):\n",
    "    print(choose_first())"
   ]
  },
  {
   "cell_type": "markdown",
   "id": "1693674a-5b25-445f-88de-dc4de2c075d2",
   "metadata": {},
   "source": [
    "# Player_choice"
   ]
  },
  {
   "cell_type": "code",
   "execution_count": 282,
   "id": "e7ba493f-8064-4e3f-a31b-78377b03b83c",
   "metadata": {},
   "outputs": [],
   "source": [
    "#column_map = {'A': 0, 'B': 1, 'C': 2, 'D': 3, 'E': 4, 'F': 5, 'G': 6}"
   ]
  },
  {
   "cell_type": "code",
   "execution_count": 302,
   "id": "60e067cb-48e4-4bfa-a58e-545141ba76b9",
   "metadata": {},
   "outputs": [],
   "source": [
    "columns_list = ['A', 'B', 'C', 'D', 'E', 'F', 'G']"
   ]
  },
  {
   "cell_type": "code",
   "execution_count": 304,
   "id": "8b97626b-8576-4977-ad17-e8a82795028d",
   "metadata": {},
   "outputs": [
    {
     "data": {
      "text/plain": [
       "'B'"
      ]
     },
     "execution_count": 304,
     "metadata": {},
     "output_type": "execute_result"
    }
   ],
   "source": [
    "columns_list[1]"
   ]
  },
  {
   "cell_type": "code",
   "execution_count": 306,
   "id": "c0d5c93a-d744-41ca-a57d-aea00458654c",
   "metadata": {},
   "outputs": [
    {
     "data": {
      "text/plain": [
       "1"
      ]
     },
     "execution_count": 306,
     "metadata": {},
     "output_type": "execute_result"
    }
   ],
   "source": [
    "columns_list.index('B')"
   ]
  },
  {
   "cell_type": "code",
   "execution_count": 312,
   "id": "14ca2725-dce1-422e-8cf7-8a0822fd61b0",
   "metadata": {},
   "outputs": [],
   "source": [
    "def player_choice(test_grid): # def fxn. with a general grid to call our grid\n",
    "    choice = input(\"Choose your column (A-G): \").upper()\n",
    "    if choice in columns_list:\n",
    "        return columns_list.index(choice)\n",
    "    else:\n",
    "        print(\"Please choose a column from A to G.\")\n",
    "        return columns_list.index(choice)"
   ]
  },
  {
   "cell_type": "code",
   "execution_count": 314,
   "id": "01f0c11f-938b-46ee-a8e9-a0a6901e8648",
   "metadata": {},
   "outputs": [
    {
     "name": "stdin",
     "output_type": "stream",
     "text": [
      "Choose your column (A-G):  a\n"
     ]
    },
    {
     "data": {
      "text/plain": [
       "0"
      ]
     },
     "execution_count": 314,
     "metadata": {},
     "output_type": "execute_result"
    }
   ],
   "source": [
    "player_choice(grid)"
   ]
  },
  {
   "cell_type": "code",
   "execution_count": 272,
   "id": "e320f678-0ec8-4254-ac94-744adf9a66fa",
   "metadata": {},
   "outputs": [
    {
     "name": "stdin",
     "output_type": "stream",
     "text": [
      "Choose your column (A-G):  a\n"
     ]
    },
    {
     "data": {
      "text/plain": [
       "[' ', ' ', ' ', ' ', ' ', ' ']"
      ]
     },
     "execution_count": 272,
     "metadata": {},
     "output_type": "execute_result"
    }
   ],
   "source": [
    "grid[player_choice(grid)]"
   ]
  },
  {
   "cell_type": "code",
   "execution_count": null,
   "id": "bc23f367-f37e-45f1-9ed9-52998c8b3309",
   "metadata": {},
   "outputs": [],
   "source": [
    "#questions\n",
    "\n",
    "# can we create a variable that stores player_choice(grid) so we can index that variable (column a, index 0)\n",
    "    # what if the player output was an integer, can we call it as index of the column \n",
    "# how to make a place marker... \n",
    "    # do we approach it by first defining a marker/token... do we need column functions better defined first\n"
   ]
  },
  {
   "cell_type": "markdown",
   "id": "fb8adfb9-3022-4aa3-bbc6-e269e6001a2a",
   "metadata": {},
   "source": [
    "### Place Marker"
   ]
  },
  {
   "cell_type": "code",
   "execution_count": null,
   "id": "d3bb0f09-7598-4505-8b7f-47d982164d1d",
   "metadata": {},
   "outputs": [],
   "source": [
    "grid[i]"
   ]
  },
  {
   "cell_type": "code",
   "execution_count": 248,
   "id": "9d9512fb-84ce-4926-b19e-838c71263580",
   "metadata": {},
   "outputs": [
    {
     "data": {
      "text/plain": [
       "'#'"
      ]
     },
     "execution_count": 248,
     "metadata": {},
     "output_type": "execute_result"
    }
   ],
   "source": [
    "grid[0][0]"
   ]
  },
  {
   "cell_type": "code",
   "execution_count": 328,
   "id": "b1c4a47e-dc89-4738-8c05-50c341a6577c",
   "metadata": {},
   "outputs": [],
   "source": [
    "def place_marker(test_grid, tokens, position): \n",
    "    grid[position] = tokens "
   ]
  },
  {
   "cell_type": "code",
   "execution_count": 330,
   "id": "f0b9a1a5-0cd2-4e98-9f69-3afa98241757",
   "metadata": {},
   "outputs": [
    {
     "data": {
      "text/plain": [
       "[[' ', ' ', ' ', ' ', ' ', ' '],\n",
       " '🔴',\n",
       " [' ', ' ', ' ', ' ', ' ', ' '],\n",
       " [' ', ' ', ' ', ' ', ' ', ' '],\n",
       " [' ', ' ', ' ', ' ', ' ', ' '],\n",
       " [' ', ' ', ' ', ' ', ' ', ' '],\n",
       " [' ', ' ', ' ', ' ', ' ', ' ']]"
      ]
     },
     "metadata": {},
     "output_type": "display_data"
    }
   ],
   "source": [
    "place_marker(grid, red, 1)\n",
    "display(grid)"
   ]
  },
  {
   "cell_type": "code",
   "execution_count": null,
   "id": "343feed0-4688-4e2b-bddc-88ad4dac9018",
   "metadata": {},
   "outputs": [],
   "source": []
  },
  {
   "cell_type": "markdown",
   "id": "e2c3547f-3481-43e0-bc40-d60e0766fdf2",
   "metadata": {},
   "source": [
    "### Column Function "
   ]
  },
  {
   "cell_type": "code",
   "execution_count": 15,
   "id": "fd9cc5a3-934d-460f-a902-e2c7f2603eca",
   "metadata": {},
   "outputs": [],
   "source": [
    "def column():\n",
    "    for i in column:\n",
    "        i in range(0,5)\n",
    "            \n",
    "        while column[i] != \" \":\n",
    "            place_marker(grid) == column[i-1]\n",
    "        while column[i] == \" \":\n",
    "                place_marker(grid) == column[i]\n",
    "            \n",
    "        # if i =5"
   ]
  },
  {
   "cell_type": "code",
   "execution_count": 9,
   "id": "87ab11f4-5a20-4e00-a552-8b27f9a600ab",
   "metadata": {},
   "outputs": [
    {
     "ename": "TypeError",
     "evalue": "column() takes 0 positional arguments but 1 was given",
     "output_type": "error",
     "traceback": [
      "\u001b[0;31m---------------------------------------------------------------------------\u001b[0m",
      "\u001b[0;31mTypeError\u001b[0m                                 Traceback (most recent call last)",
      "Cell \u001b[0;32mIn[9], line 1\u001b[0m\n\u001b[0;32m----> 1\u001b[0m column (\u001b[38;5;241m5\u001b[39m)\n",
      "\u001b[0;31mTypeError\u001b[0m: column() takes 0 positional arguments but 1 was given"
     ]
    }
   ],
   "source": [
    "column()"
   ]
  },
  {
   "cell_type": "code",
   "execution_count": null,
   "id": "10d8f4f7-c4bd-4a32-bd2d-72a40a73661a",
   "metadata": {},
   "outputs": [],
   "source": []
  },
  {
   "cell_type": "markdown",
   "id": "b49b65cc-5bbb-4691-8d6a-1daf152fea89",
   "metadata": {},
   "source": [
    "### Win Check"
   ]
  },
  {
   "cell_type": "markdown",
   "id": "23310ba4-5c9e-4ac7-a7f0-be982602f010",
   "metadata": {},
   "source": [
    "### Full Grid Check "
   ]
  },
  {
   "cell_type": "code",
   "execution_count": null,
   "id": "b8bd7982-f764-4a39-b322-29eba3cab277",
   "metadata": {},
   "outputs": [],
   "source": [
    "def full_board_check(grid): # function for a full grid\n",
    "    for i in range(1, 10): # for elements across columns in the range of columns A-B / 0-5\n",
    "        if space_check(board, i): # if there's space in the columns of the grid\n",
    "            return False # looping through the columns to return false (there's no space)\n",
    "\n",
    "    return True #true that there's no space"
   ]
  },
  {
   "cell_type": "markdown",
   "id": "1ccc873c-dfbf-438c-a378-4216b82f2429",
   "metadata": {},
   "source": [
    "### Column Check"
   ]
  },
  {
   "cell_type": "code",
   "execution_count": 43,
   "id": "11953ef4-a8f6-48df-854a-931d1d125cf2",
   "metadata": {},
   "outputs": [],
   "source": [
    "def column_check(grid, position):  # true if the column is not occupied # use column \n",
    "    return grid[position] == \" \" "
   ]
  },
  {
   "cell_type": "code",
   "execution_count": 53,
   "id": "78d74d9b-ce7c-4bdc-93bb-292dffbb7a75",
   "metadata": {},
   "outputs": [
    {
     "data": {
      "text/plain": [
       "False"
      ]
     },
     "execution_count": 53,
     "metadata": {},
     "output_type": "execute_result"
    }
   ],
   "source": [
    "space_check(grid, 3)"
   ]
  },
  {
   "cell_type": "markdown",
   "id": "cda19a1f-4e5b-4d30-bd8a-a069789ed9dd",
   "metadata": {},
   "source": [
    "### Replay"
   ]
  },
  {
   "cell_type": "code",
   "execution_count": null,
   "id": "a59864fa-2b91-4561-8fe0-e07544f92870",
   "metadata": {},
   "outputs": [],
   "source": []
  },
  {
   "cell_type": "markdown",
   "id": "6c8333e1-c5aa-4be0-9435-a324a85af982",
   "metadata": {},
   "source": [
    "### Playing Connect Four"
   ]
  },
  {
   "cell_type": "code",
   "execution_count": null,
   "id": "d781d159-b62c-47c8-b0f4-7e227aa14ae8",
   "metadata": {},
   "outputs": [],
   "source": []
  }
 ],
 "metadata": {
  "kernelspec": {
   "display_name": "Python 3 (ipykernel)",
   "language": "python",
   "name": "python3"
  },
  "language_info": {
   "codemirror_mode": {
    "name": "ipython",
    "version": 3
   },
   "file_extension": ".py",
   "mimetype": "text/x-python",
   "name": "python",
   "nbconvert_exporter": "python",
   "pygments_lexer": "ipython3",
   "version": "3.12.4"
  }
 },
 "nbformat": 4,
 "nbformat_minor": 5
}
