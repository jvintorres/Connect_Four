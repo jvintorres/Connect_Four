{
 "cells": [
  {
   "cell_type": "code",
   "execution_count": null,
   "id": "30df2394-903b-4e48-8f51-fc6bd9c875f0",
   "metadata": {},
   "outputs": [],
   "source": [
    "\n",
    "# display grid\n",
    "# player input\n",
    "# check_win\n",
    "# space_check\n",
    "# choose_first\n",
    "# place_marker\n",
    "# fullboard check\n",
    "# replay\n",
    "# player choice"
   ]
  },
  {
   "cell_type": "markdown",
   "id": "1b100544-3806-4b44-a5f5-b1d198d0b036",
   "metadata": {},
   "source": [
    "# Connect Four - Honglei & Jonathan"
   ]
  },
  {
   "cell_type": "markdown",
   "id": "d33ad2d0-3283-43b5-8dd4-97e1b07b2cb3",
   "metadata": {},
   "source": [
    "# display_grid() "
   ]
  },
  {
   "cell_type": "code",
   "execution_count": 261,
   "id": "068484cf-e540-4010-9017-03ba85a6bb38",
   "metadata": {},
   "outputs": [],
   "source": [
    "def display_grid(grid):\n",
    "    \n",
    "    for row in range(5, -1, -1):  # looping through rows from bottom to top\n",
    "        row_display = \"|\"\n",
    "        for column in grid:\n",
    "            row_display += f\" {column[row]} |\"  # formating each cell\n",
    "        print(row_display)\n",
    "\n",
    "     # printing the line of underscores after each row except the last one\n",
    "        \n",
    "        if row > 0:\n",
    "            print(\"+----+----+----+----+----+----+----+\")\n",
    "    \n",
    "    # printing the column headers\n",
    "    print(\"+----+----+----+----+----+----+----+\")\n",
    "    print(\"|  A |  B |  C |  D |  E |  F |  G |\")  # Column indices\n",
    "\n",
    "\n"
   ]
  },
  {
   "cell_type": "code",
   "execution_count": 263,
   "id": "8aca396b-8054-4adb-87f7-4bcfa847103c",
   "metadata": {},
   "outputs": [],
   "source": [
    "# the columns of the grid\n",
    "a = [\"  \"] * 6 \n",
    "b = [\"  \"] * 6\n",
    "c = [\"  \"] * 6\n",
    "d = [\"  \"] * 6\n",
    "e = [\"  \"] * 6\n",
    "f = [\"  \"] * 6\n",
    "g = [\"  \"] * 6\n",
    "\n",
    "# create the grid\n",
    "grid = [a, b, c, d, e, f, g]\n"
   ]
  },
  {
   "cell_type": "code",
   "execution_count": 265,
   "id": "ba61f273-b130-443b-a3bb-bd626ae2ef90",
   "metadata": {},
   "outputs": [
    {
     "name": "stdout",
     "output_type": "stream",
     "text": [
      "|    |    |    |    |    |    |    |\n",
      "+----+----+----+----+----+----+----+\n",
      "|    |    |    |    |    |    |    |\n",
      "+----+----+----+----+----+----+----+\n",
      "|    |    |    |    |    |    |    |\n",
      "+----+----+----+----+----+----+----+\n",
      "|    |    |    |    |    |    |    |\n",
      "+----+----+----+----+----+----+----+\n",
      "|    |    |    |    |    |    |    |\n",
      "+----+----+----+----+----+----+----+\n",
      "|    |    |    |    |    |    |    |\n",
      "+----+----+----+----+----+----+----+\n",
      "|  A |  B |  C |  D |  E |  F |  G |\n"
     ]
    }
   ],
   "source": [
    "display_grid(grid)"
   ]
  },
  {
   "cell_type": "code",
   "execution_count": 173,
   "id": "ae8ce27b-78d6-48b9-92d5-c5cfb991b490",
   "metadata": {},
   "outputs": [
    {
     "name": "stdout",
     "output_type": "stream",
     "text": [
      "Requirement already satisfied: emoji in /Applications/anaconda3/lib/python3.12/site-packages (2.14.0)\n",
      "Note: you may need to restart the kernel to use updated packages.\n"
     ]
    }
   ],
   "source": [
    "pip install emoji"
   ]
  },
  {
   "cell_type": "code",
   "execution_count": null,
   "id": "11071734-7470-46cb-b437-0d51fabd7d84",
   "metadata": {},
   "outputs": [],
   "source": []
  },
  {
   "cell_type": "markdown",
   "id": "40632216-fed1-47ca-ac1e-adfac7f42bf4",
   "metadata": {},
   "source": [
    "# emoji library & player_input()"
   ]
  },
  {
   "cell_type": "code",
   "execution_count": 177,
   "id": "d17b5dd1-3b46-4290-adfe-de7a23601f71",
   "metadata": {},
   "outputs": [
    {
     "name": "stdout",
     "output_type": "stream",
     "text": [
      "🔴\n",
      "🟡\n"
     ]
    }
   ],
   "source": [
    "import emoji\n",
    "\n",
    "# define red and yellow variables\n",
    "\n",
    "red_circle = emoji.emojize(\":red_circle:\")\n",
    "yellow_circle = emoji.emojize(\":yellow_circle:\")\n",
    "\n",
    "\n",
    "# convert the variables to strings\n",
    "red = str(red_circle)\n",
    "yellow = str(yellow_circle) \n",
    "\n",
    "print(red)\n",
    "print(yellow)"
   ]
  },
  {
   "cell_type": "code",
   "execution_count": 42,
   "id": "33e3e2e8-5a58-483e-be81-fff5f714b3bd",
   "metadata": {},
   "outputs": [],
   "source": [
    "def player_input():\n",
    "    \n",
    "    token = \"\"\n",
    "\n",
    "    while not (token == \"red\" or token == \"yellow\"):\n",
    "        token = input(\"Player 1: Do you want to be Yellow or Red\").lower() \n",
    "\n",
    "    if token == \"red\": \n",
    "        return (red_circle, yellow_circle)\n",
    "    else: return (yellow_circle, red_circle)\n",
    "    \n",
    "#my output doesn't recognize token "
   ]
  },
  {
   "cell_type": "code",
   "execution_count": 15,
   "id": "f29aa575-9bae-4784-9a64-7f7c3b4bb5ff",
   "metadata": {},
   "outputs": [
    {
     "name": "stdin",
     "output_type": "stream",
     "text": [
      "Player 1: Do you want to be Yellow or Red yellow\n"
     ]
    },
    {
     "data": {
      "text/plain": [
       "('🟡', '🔴')"
      ]
     },
     "execution_count": 15,
     "metadata": {},
     "output_type": "execute_result"
    }
   ],
   "source": [
    "player_input()"
   ]
  },
  {
   "cell_type": "code",
   "execution_count": 16,
   "id": "4068fe08-558a-432a-9d2d-edbbf6bbe193",
   "metadata": {},
   "outputs": [],
   "source": [
    "#print(red_circle)  # Outputs: 🔴\n",
    "#print(yellow_circle)  # Outputs: 🟡"
   ]
  },
  {
   "cell_type": "code",
   "execution_count": null,
   "id": "408e2188-7494-4d34-973f-7b9df027d11d",
   "metadata": {},
   "outputs": [],
   "source": []
  },
  {
   "cell_type": "markdown",
   "id": "68d0d9e6-f379-4751-8860-f8bc1c7faa6b",
   "metadata": {},
   "source": [
    "# choose_first()"
   ]
  },
  {
   "cell_type": "code",
   "execution_count": 182,
   "id": "a8e604b0-ca03-42a0-a9de-9afc7b43ba59",
   "metadata": {},
   "outputs": [],
   "source": [
    "import random \n",
    "\n",
    "def choose_first():\n",
    "    if random.randint(0,1) == 0: \n",
    "        return \"Player 1\"\n",
    "    else: \n",
    "        return \"Player 2\""
   ]
  },
  {
   "cell_type": "code",
   "execution_count": 184,
   "id": "f4c244d2-34f8-4a49-96d6-81bbd47ba19e",
   "metadata": {},
   "outputs": [
    {
     "name": "stdout",
     "output_type": "stream",
     "text": [
      "Player 1\n",
      "Player 2\n",
      "Player 1\n",
      "Player 2\n",
      "Player 2\n",
      "Player 1\n",
      "Player 1\n",
      "Player 1\n",
      "Player 1\n",
      "Player 2\n"
     ]
    }
   ],
   "source": [
    "for i in range(10):\n",
    "    print(choose_first())"
   ]
  },
  {
   "cell_type": "code",
   "execution_count": null,
   "id": "e968cb78-7d73-49c6-b496-370b62cb6703",
   "metadata": {},
   "outputs": [],
   "source": []
  },
  {
   "cell_type": "markdown",
   "id": "4258a7cc-fe14-4860-9918-2adf5380eb94",
   "metadata": {},
   "source": [
    "# space_check()"
   ]
  },
  {
   "cell_type": "code",
   "execution_count": 271,
   "id": "8b460c37-f476-4195-ae06-a4f3a7144d4a",
   "metadata": {},
   "outputs": [],
   "source": [
    "column_list = ['A', 'B', 'C', 'D', 'E', 'F', 'G']\n",
    "\n",
    "def space_check(test_grid, choice, row):  #what we want: to input a test grid, to index the column_list, and a rows  \n",
    "    try:\n",
    "        col_index = column_list.index(choice)\n",
    "        return test_grid[col_index][row] == \"  \"\n",
    "        \n",
    "    except ValueError as e: \n",
    "        print(f\"Error in space_check: {e}. choice: {choice}\")\n",
    "        return False "
   ]
  },
  {
   "cell_type": "code",
   "execution_count": 241,
   "id": "55021dbc-ee45-40a7-910f-a4dccf9321c1",
   "metadata": {},
   "outputs": [
    {
     "data": {
      "text/plain": [
       "False"
      ]
     },
     "execution_count": 241,
     "metadata": {},
     "output_type": "execute_result"
    }
   ],
   "source": [
    "space_check(grid, 'A', 1)"
   ]
  },
  {
   "cell_type": "code",
   "execution_count": null,
   "id": "45313b20-92c7-4016-a417-b256aee05549",
   "metadata": {},
   "outputs": [],
   "source": []
  },
  {
   "cell_type": "markdown",
   "id": "1693674a-5b25-445f-88de-dc4de2c075d2",
   "metadata": {},
   "source": [
    "# player_choice() & indexing our columns"
   ]
  },
  {
   "cell_type": "code",
   "execution_count": 4,
   "id": "60e067cb-48e4-4bfa-a58e-545141ba76b9",
   "metadata": {},
   "outputs": [],
   "source": [
    "column_list = ['A', 'B', 'C', 'D', 'E', 'F', 'G']"
   ]
  },
  {
   "cell_type": "code",
   "execution_count": 6,
   "id": "8b97626b-8576-4977-ad17-e8a82795028d",
   "metadata": {},
   "outputs": [
    {
     "data": {
      "text/plain": [
       "'B'"
      ]
     },
     "execution_count": 6,
     "metadata": {},
     "output_type": "execute_result"
    }
   ],
   "source": [
    "column_list[1]"
   ]
  },
  {
   "cell_type": "code",
   "execution_count": 8,
   "id": "c0d5c93a-d744-41ca-a57d-aea00458654c",
   "metadata": {},
   "outputs": [
    {
     "data": {
      "text/plain": [
       "1"
      ]
     },
     "execution_count": 8,
     "metadata": {},
     "output_type": "execute_result"
    }
   ],
   "source": [
    "column_list.index('B')"
   ]
  },
  {
   "cell_type": "code",
   "execution_count": 199,
   "id": "14ca2725-dce1-422e-8cf7-8a0822fd61b0",
   "metadata": {},
   "outputs": [],
   "source": [
    "column_list = ['A', 'B', 'C', 'D', 'E', 'F', 'G']\n",
    "\n",
    "def player_choice(test_grid): \n",
    "    while True: \n",
    "        choice = input(\"Choose your column (A-G): \").upper()  \n",
    "        \n",
    "        if choice not in column_list:\n",
    "            print(\"Choose your column (A-G): \") \n",
    "            continue \n",
    "        \n",
    "        col_index = column_list.index(choice)\n",
    "        \n",
    "        if not space_check(test_grid, choice, len(test_grid[0])-1):\n",
    "            print(\"Please choose a column from A to G.\")\n",
    "            continue \n",
    "\n",
    "        return column_list.index(choice)\n",
    "    \n"
   ]
  },
  {
   "cell_type": "code",
   "execution_count": null,
   "id": "40837ae0-51db-493c-9667-35dd84d0c1a9",
   "metadata": {},
   "outputs": [],
   "source": []
  },
  {
   "cell_type": "markdown",
   "id": "fb8adfb9-3022-4aa3-bbc6-e269e6001a2a",
   "metadata": {},
   "source": [
    "# place_marker()"
   ]
  },
  {
   "cell_type": "code",
   "execution_count": 269,
   "id": "24651fbd-29bc-4f75-9f2e-550ee1e2d64c",
   "metadata": {},
   "outputs": [],
   "source": [
    "def place_marker(test_grid, tokens, columns):\n",
    "    # Start at the bottom of the column and move upward\n",
    "    for row in range(len(test_grid[0])):  # len(test_grid[0]) is the number of rows\n",
    "        if test_grid[columns][row] == \"  \":  # Checking if the spot is empty\n",
    "            test_grid[columns][row] = tokens  # Placing the token in the first available row\n",
    "            return True  # Successfully placeing a token\n",
    "    print(\"Column is full. Please choose another column.\")\n",
    "    return False  # False if the column is full"
   ]
  },
  {
   "cell_type": "code",
   "execution_count": 253,
   "id": "4e264709-cb03-452c-bf9f-ab3e3918ee95",
   "metadata": {},
   "outputs": [
    {
     "name": "stdout",
     "output_type": "stream",
     "text": [
      "Column is full. Please choose another column.\n"
     ]
    },
    {
     "data": {
      "text/plain": [
       "[['   ', '   ', '   ', '   ', '   ', '   '],\n",
       " ['   ', '   ', '   ', '   ', '   ', '   '],\n",
       " ['   ', '   ', '   ', '   ', '   ', '   '],\n",
       " ['   ', '   ', '   ', '   ', '   ', '   '],\n",
       " ['   ', '   ', '   ', '   ', '   ', '   '],\n",
       " ['   ', '   ', '   ', '   ', '   ', '   '],\n",
       " ['   ', '   ', '   ', '   ', '   ', '   ']]"
      ]
     },
     "metadata": {},
     "output_type": "display_data"
    }
   ],
   "source": [
    "place_marker(grid, red, 2)\n",
    "display(grid)"
   ]
  },
  {
   "cell_type": "code",
   "execution_count": 208,
   "id": "343feed0-4688-4e2b-bddc-88ad4dac9018",
   "metadata": {},
   "outputs": [
    {
     "name": "stdout",
     "output_type": "stream",
     "text": [
      "Column is full. Please choose another column.\n"
     ]
    },
    {
     "data": {
      "text/plain": [
       "[['   ', '   ', '   ', '   ', '   ', '   '],\n",
       " ['   ', '   ', '   ', '   ', '   ', '   '],\n",
       " ['   ', '   ', '   ', '   ', '   ', '   '],\n",
       " ['   ', '   ', '   ', '   ', '   ', '   '],\n",
       " ['   ', '   ', '   ', '   ', '   ', '   '],\n",
       " ['   ', '   ', '   ', '   ', '   ', '   '],\n",
       " ['   ', '   ', '   ', '   ', '   ', '   ']]"
      ]
     },
     "metadata": {},
     "output_type": "display_data"
    }
   ],
   "source": [
    "place_marker(grid, yellow, 1)\n",
    "display(grid)"
   ]
  },
  {
   "cell_type": "code",
   "execution_count": null,
   "id": "10d8f4f7-c4bd-4a32-bd2d-72a40a73661a",
   "metadata": {},
   "outputs": [],
   "source": []
  },
  {
   "cell_type": "markdown",
   "id": "b49b65cc-5bbb-4691-8d6a-1daf152fea89",
   "metadata": {},
   "source": [
    "# win_check()"
   ]
  },
  {
   "cell_type": "code",
   "execution_count": 212,
   "id": "22114b2d-9f56-430b-b490-716b7dfd444b",
   "metadata": {},
   "outputs": [],
   "source": [
    "def win_check(grid, mark):\n",
    "    \n",
    "##will return True or False\n",
    "    for i in range(0,6):\n",
    "        for j in range(0,5):\n",
    "            # Horizontal check (left to right)\n",
    "            if j <= 3 and (grid[i][j] == mark and grid[i][j+1] == mark and grid[i][j+2] == mark and grid[i][j+3] == mark):\n",
    "                return True\n",
    "            \n",
    "            # Vertical check (top to bottom)\n",
    "            if i <= 2 and (grid[i][j] == mark and grid[i+1][j] == mark and grid[i+2][j] == mark and grid[i+3][j] == mark):\n",
    "                return True\n",
    "\n",
    "            # Diagonal check (top-left to bottom-right)\n",
    "            if i <= 2 and j <= 3 and (grid[i][j] == mark and grid[i+1][j+1] == mark and grid[i+2][j+2] == mark and grid[i+3][j+3] == mark):\n",
    "                return True\n",
    "\n",
    "            # Diagonal check (bottom-left to top-right)\n",
    "            if i <= 2 and j >= 3 and (grid[i][j] == mark and grid[i+1][j-1] == mark and grid[i+2][j-2] == mark and grid[i+3][j-3] == mark):\n",
    "                return True\n",
    "            \n",
    "    return False"
   ]
  },
  {
   "cell_type": "code",
   "execution_count": 214,
   "id": "fe8d46d0-2b77-46dc-be29-db8c71d46498",
   "metadata": {},
   "outputs": [
    {
     "data": {
      "text/plain": [
       "False"
      ]
     },
     "execution_count": 214,
     "metadata": {},
     "output_type": "execute_result"
    }
   ],
   "source": [
    "win_check(grid, yellow)"
   ]
  },
  {
   "cell_type": "code",
   "execution_count": null,
   "id": "9e6aaa82-dde8-4df6-9c96-c14388142f08",
   "metadata": {},
   "outputs": [],
   "source": []
  },
  {
   "cell_type": "markdown",
   "id": "1da41b52-ddd1-4d47-bdda-ff4704013feb",
   "metadata": {},
   "source": [
    "# full_grid_check()"
   ]
  },
  {
   "cell_type": "code",
   "execution_count": 267,
   "id": "b8bd7982-f764-4a39-b322-29eba3cab277",
   "metadata": {},
   "outputs": [],
   "source": [
    "def full_grid_check(grid):\n",
    "    for column in grid:\n",
    "        if \"  \" in column:  # if any column still has an empty space\n",
    "            return False\n",
    "    return True  # True when no empty spaces are left"
   ]
  },
  {
   "cell_type": "code",
   "execution_count": 245,
   "id": "521a5adf-44d7-4ecd-8ce3-5c95ac315fa1",
   "metadata": {},
   "outputs": [
    {
     "data": {
      "text/plain": [
       "False"
      ]
     },
     "execution_count": 245,
     "metadata": {},
     "output_type": "execute_result"
    }
   ],
   "source": [
    "full_grid_check(grid)"
   ]
  },
  {
   "cell_type": "code",
   "execution_count": null,
   "id": "63a0356e-4580-46a3-9832-586a37c2ad91",
   "metadata": {},
   "outputs": [],
   "source": []
  },
  {
   "cell_type": "markdown",
   "id": "cda19a1f-4e5b-4d30-bd8a-a069789ed9dd",
   "metadata": {},
   "source": [
    "# replay()"
   ]
  },
  {
   "cell_type": "code",
   "execution_count": 226,
   "id": "a59864fa-2b91-4561-8fe0-e07544f92870",
   "metadata": {},
   "outputs": [],
   "source": [
    "def replay():\n",
    "    return input(\"Do you want to play again? Enter Y/N: \").lower().startswith(\"y\") \n",
    "\n",
    "# anything that starts with y will output as true with this replay fxn. ---- to restart again"
   ]
  },
  {
   "cell_type": "code",
   "execution_count": null,
   "id": "4719cd5b-b081-44ad-af81-a0c62d3e1854",
   "metadata": {},
   "outputs": [],
   "source": []
  },
  {
   "cell_type": "markdown",
   "id": "6c8333e1-c5aa-4be0-9435-a324a85af982",
   "metadata": {},
   "source": [
    "# Let's Play! Connect Four - Connecting the functions"
   ]
  },
  {
   "cell_type": "code",
   "execution_count": null,
   "id": "d781d159-b62c-47c8-b0f4-7e227aa14ae8",
   "metadata": {},
   "outputs": [
    {
     "name": "stdout",
     "output_type": "stream",
     "text": [
      "Welcome to Connect Four!\n"
     ]
    },
    {
     "name": "stdin",
     "output_type": "stream",
     "text": [
      "Player 1: Do you want to be Yellow or Red yellow\n"
     ]
    },
    {
     "name": "stdout",
     "output_type": "stream",
     "text": [
      "Player 2 will start\n"
     ]
    },
    {
     "name": "stdin",
     "output_type": "stream",
     "text": [
      "Are you ready to play? Y/N:  y\n"
     ]
    },
    {
     "name": "stdout",
     "output_type": "stream",
     "text": [
      "|    |    |    |    |    |    |    |\n",
      "+----+----+----+----+----+----+----+\n",
      "|    |    |    |    |    |    |    |\n",
      "+----+----+----+----+----+----+----+\n",
      "|    |    |    |    |    |    |    |\n",
      "+----+----+----+----+----+----+----+\n",
      "|    |    |    |    |    |    |    |\n",
      "+----+----+----+----+----+----+----+\n",
      "|    |    |    |    |    |    |    |\n",
      "+----+----+----+----+----+----+----+\n",
      "|    |    |    |    |    |    |    |\n",
      "+----+----+----+----+----+----+----+\n",
      "|  A |  B |  C |  D |  E |  F |  G |\n"
     ]
    },
    {
     "name": "stdin",
     "output_type": "stream",
     "text": [
      "Choose your column (A-G):  a\n"
     ]
    },
    {
     "name": "stdout",
     "output_type": "stream",
     "text": [
      "|    |    |    |    |    |    |    |\n",
      "+----+----+----+----+----+----+----+\n",
      "|    |    |    |    |    |    |    |\n",
      "+----+----+----+----+----+----+----+\n",
      "|    |    |    |    |    |    |    |\n",
      "+----+----+----+----+----+----+----+\n",
      "|    |    |    |    |    |    |    |\n",
      "+----+----+----+----+----+----+----+\n",
      "|    |    |    |    |    |    |    |\n",
      "+----+----+----+----+----+----+----+\n",
      "| 🔴 |    |    |    |    |    |    |\n",
      "+----+----+----+----+----+----+----+\n",
      "|  A |  B |  C |  D |  E |  F |  G |\n"
     ]
    },
    {
     "name": "stdin",
     "output_type": "stream",
     "text": [
      "Choose your column (A-G):  b\n"
     ]
    },
    {
     "name": "stdout",
     "output_type": "stream",
     "text": [
      "|    |    |    |    |    |    |    |\n",
      "+----+----+----+----+----+----+----+\n",
      "|    |    |    |    |    |    |    |\n",
      "+----+----+----+----+----+----+----+\n",
      "|    |    |    |    |    |    |    |\n",
      "+----+----+----+----+----+----+----+\n",
      "|    |    |    |    |    |    |    |\n",
      "+----+----+----+----+----+----+----+\n",
      "|    |    |    |    |    |    |    |\n",
      "+----+----+----+----+----+----+----+\n",
      "| 🔴 | 🟡 |    |    |    |    |    |\n",
      "+----+----+----+----+----+----+----+\n",
      "|  A |  B |  C |  D |  E |  F |  G |\n"
     ]
    },
    {
     "name": "stdin",
     "output_type": "stream",
     "text": [
      "Choose your column (A-G):  a\n"
     ]
    },
    {
     "name": "stdout",
     "output_type": "stream",
     "text": [
      "|    |    |    |    |    |    |    |\n",
      "+----+----+----+----+----+----+----+\n",
      "|    |    |    |    |    |    |    |\n",
      "+----+----+----+----+----+----+----+\n",
      "|    |    |    |    |    |    |    |\n",
      "+----+----+----+----+----+----+----+\n",
      "|    |    |    |    |    |    |    |\n",
      "+----+----+----+----+----+----+----+\n",
      "| 🔴 |    |    |    |    |    |    |\n",
      "+----+----+----+----+----+----+----+\n",
      "| 🔴 | 🟡 |    |    |    |    |    |\n",
      "+----+----+----+----+----+----+----+\n",
      "|  A |  B |  C |  D |  E |  F |  G |\n"
     ]
    },
    {
     "name": "stdin",
     "output_type": "stream",
     "text": [
      "Choose your column (A-G):  a\n"
     ]
    },
    {
     "name": "stdout",
     "output_type": "stream",
     "text": [
      "|    |    |    |    |    |    |    |\n",
      "+----+----+----+----+----+----+----+\n",
      "|    |    |    |    |    |    |    |\n",
      "+----+----+----+----+----+----+----+\n",
      "|    |    |    |    |    |    |    |\n",
      "+----+----+----+----+----+----+----+\n",
      "| 🟡 |    |    |    |    |    |    |\n",
      "+----+----+----+----+----+----+----+\n",
      "| 🔴 |    |    |    |    |    |    |\n",
      "+----+----+----+----+----+----+----+\n",
      "| 🔴 | 🟡 |    |    |    |    |    |\n",
      "+----+----+----+----+----+----+----+\n",
      "|  A |  B |  C |  D |  E |  F |  G |\n"
     ]
    },
    {
     "name": "stdin",
     "output_type": "stream",
     "text": [
      "Choose your column (A-G):  b\n"
     ]
    },
    {
     "name": "stdout",
     "output_type": "stream",
     "text": [
      "|    |    |    |    |    |    |    |\n",
      "+----+----+----+----+----+----+----+\n",
      "|    |    |    |    |    |    |    |\n",
      "+----+----+----+----+----+----+----+\n",
      "|    |    |    |    |    |    |    |\n",
      "+----+----+----+----+----+----+----+\n",
      "| 🟡 |    |    |    |    |    |    |\n",
      "+----+----+----+----+----+----+----+\n",
      "| 🔴 | 🔴 |    |    |    |    |    |\n",
      "+----+----+----+----+----+----+----+\n",
      "| 🔴 | 🟡 |    |    |    |    |    |\n",
      "+----+----+----+----+----+----+----+\n",
      "|  A |  B |  C |  D |  E |  F |  G |\n"
     ]
    },
    {
     "name": "stdin",
     "output_type": "stream",
     "text": [
      "Choose your column (A-G):  a\n"
     ]
    },
    {
     "name": "stdout",
     "output_type": "stream",
     "text": [
      "|    |    |    |    |    |    |    |\n",
      "+----+----+----+----+----+----+----+\n",
      "|    |    |    |    |    |    |    |\n",
      "+----+----+----+----+----+----+----+\n",
      "| 🟡 |    |    |    |    |    |    |\n",
      "+----+----+----+----+----+----+----+\n",
      "| 🟡 |    |    |    |    |    |    |\n",
      "+----+----+----+----+----+----+----+\n",
      "| 🔴 | 🔴 |    |    |    |    |    |\n",
      "+----+----+----+----+----+----+----+\n",
      "| 🔴 | 🟡 |    |    |    |    |    |\n",
      "+----+----+----+----+----+----+----+\n",
      "|  A |  B |  C |  D |  E |  F |  G |\n"
     ]
    },
    {
     "name": "stdin",
     "output_type": "stream",
     "text": [
      "Choose your column (A-G):  b\n"
     ]
    },
    {
     "name": "stdout",
     "output_type": "stream",
     "text": [
      "|    |    |    |    |    |    |    |\n",
      "+----+----+----+----+----+----+----+\n",
      "|    |    |    |    |    |    |    |\n",
      "+----+----+----+----+----+----+----+\n",
      "| 🟡 |    |    |    |    |    |    |\n",
      "+----+----+----+----+----+----+----+\n",
      "| 🟡 | 🔴 |    |    |    |    |    |\n",
      "+----+----+----+----+----+----+----+\n",
      "| 🔴 | 🔴 |    |    |    |    |    |\n",
      "+----+----+----+----+----+----+----+\n",
      "| 🔴 | 🟡 |    |    |    |    |    |\n",
      "+----+----+----+----+----+----+----+\n",
      "|  A |  B |  C |  D |  E |  F |  G |\n"
     ]
    },
    {
     "name": "stdin",
     "output_type": "stream",
     "text": [
      "Choose your column (A-G):  a\n"
     ]
    },
    {
     "name": "stdout",
     "output_type": "stream",
     "text": [
      "|    |    |    |    |    |    |    |\n",
      "+----+----+----+----+----+----+----+\n",
      "| 🟡 |    |    |    |    |    |    |\n",
      "+----+----+----+----+----+----+----+\n",
      "| 🟡 |    |    |    |    |    |    |\n",
      "+----+----+----+----+----+----+----+\n",
      "| 🟡 | 🔴 |    |    |    |    |    |\n",
      "+----+----+----+----+----+----+----+\n",
      "| 🔴 | 🔴 |    |    |    |    |    |\n",
      "+----+----+----+----+----+----+----+\n",
      "| 🔴 | 🟡 |    |    |    |    |    |\n",
      "+----+----+----+----+----+----+----+\n",
      "|  A |  B |  C |  D |  E |  F |  G |\n"
     ]
    },
    {
     "name": "stdin",
     "output_type": "stream",
     "text": [
      "Choose your column (A-G):  b\n"
     ]
    },
    {
     "name": "stdout",
     "output_type": "stream",
     "text": [
      "|    |    |    |    |    |    |    |\n",
      "+----+----+----+----+----+----+----+\n",
      "| 🟡 |    |    |    |    |    |    |\n",
      "+----+----+----+----+----+----+----+\n",
      "| 🟡 | 🔴 |    |    |    |    |    |\n",
      "+----+----+----+----+----+----+----+\n",
      "| 🟡 | 🔴 |    |    |    |    |    |\n",
      "+----+----+----+----+----+----+----+\n",
      "| 🔴 | 🔴 |    |    |    |    |    |\n",
      "+----+----+----+----+----+----+----+\n",
      "| 🔴 | 🟡 |    |    |    |    |    |\n",
      "+----+----+----+----+----+----+----+\n",
      "|  A |  B |  C |  D |  E |  F |  G |\n"
     ]
    },
    {
     "name": "stdin",
     "output_type": "stream",
     "text": [
      "Choose your column (A-G):  a\n"
     ]
    },
    {
     "name": "stdout",
     "output_type": "stream",
     "text": [
      "| 🟡 |    |    |    |    |    |    |\n",
      "+----+----+----+----+----+----+----+\n",
      "| 🟡 |    |    |    |    |    |    |\n",
      "+----+----+----+----+----+----+----+\n",
      "| 🟡 | 🔴 |    |    |    |    |    |\n",
      "+----+----+----+----+----+----+----+\n",
      "| 🟡 | 🔴 |    |    |    |    |    |\n",
      "+----+----+----+----+----+----+----+\n",
      "| 🔴 | 🔴 |    |    |    |    |    |\n",
      "+----+----+----+----+----+----+----+\n",
      "| 🔴 | 🟡 |    |    |    |    |    |\n",
      "+----+----+----+----+----+----+----+\n",
      "|  A |  B |  C |  D |  E |  F |  G |\n",
      "Congratulations! You have won the game :)\n"
     ]
    },
    {
     "name": "stdin",
     "output_type": "stream",
     "text": [
      "Do you want to play again? Enter Y/N:  y\n",
      "Player 1: Do you want to be Yellow or Red red\n"
     ]
    },
    {
     "name": "stdout",
     "output_type": "stream",
     "text": [
      "Player 2 will start\n"
     ]
    },
    {
     "name": "stdin",
     "output_type": "stream",
     "text": [
      "Are you ready to play? Y/N:  y\n"
     ]
    },
    {
     "name": "stdout",
     "output_type": "stream",
     "text": [
      "|    |    |    |    |    |    |    |\n",
      "+----+----+----+----+----+----+----+\n",
      "|    |    |    |    |    |    |    |\n",
      "+----+----+----+----+----+----+----+\n",
      "|    |    |    |    |    |    |    |\n",
      "+----+----+----+----+----+----+----+\n",
      "|    |    |    |    |    |    |    |\n",
      "+----+----+----+----+----+----+----+\n",
      "|    |    |    |    |    |    |    |\n",
      "+----+----+----+----+----+----+----+\n",
      "|    |    |    |    |    |    |    |\n",
      "+----+----+----+----+----+----+----+\n",
      "|  A |  B |  C |  D |  E |  F |  G |\n"
     ]
    },
    {
     "name": "stdin",
     "output_type": "stream",
     "text": [
      "Choose your column (A-G):  a\n"
     ]
    },
    {
     "name": "stdout",
     "output_type": "stream",
     "text": [
      "|    |    |    |    |    |    |    |\n",
      "+----+----+----+----+----+----+----+\n",
      "|    |    |    |    |    |    |    |\n",
      "+----+----+----+----+----+----+----+\n",
      "|    |    |    |    |    |    |    |\n",
      "+----+----+----+----+----+----+----+\n",
      "|    |    |    |    |    |    |    |\n",
      "+----+----+----+----+----+----+----+\n",
      "|    |    |    |    |    |    |    |\n",
      "+----+----+----+----+----+----+----+\n",
      "| 🟡 |    |    |    |    |    |    |\n",
      "+----+----+----+----+----+----+----+\n",
      "|  A |  B |  C |  D |  E |  F |  G |\n"
     ]
    },
    {
     "name": "stdin",
     "output_type": "stream",
     "text": [
      "Choose your column (A-G):  b\n"
     ]
    },
    {
     "name": "stdout",
     "output_type": "stream",
     "text": [
      "|    |    |    |    |    |    |    |\n",
      "+----+----+----+----+----+----+----+\n",
      "|    |    |    |    |    |    |    |\n",
      "+----+----+----+----+----+----+----+\n",
      "|    |    |    |    |    |    |    |\n",
      "+----+----+----+----+----+----+----+\n",
      "|    |    |    |    |    |    |    |\n",
      "+----+----+----+----+----+----+----+\n",
      "|    |    |    |    |    |    |    |\n",
      "+----+----+----+----+----+----+----+\n",
      "| 🟡 | 🔴 |    |    |    |    |    |\n",
      "+----+----+----+----+----+----+----+\n",
      "|  A |  B |  C |  D |  E |  F |  G |\n"
     ]
    },
    {
     "name": "stdin",
     "output_type": "stream",
     "text": [
      "Choose your column (A-G):  a\n"
     ]
    },
    {
     "name": "stdout",
     "output_type": "stream",
     "text": [
      "|    |    |    |    |    |    |    |\n",
      "+----+----+----+----+----+----+----+\n",
      "|    |    |    |    |    |    |    |\n",
      "+----+----+----+----+----+----+----+\n",
      "|    |    |    |    |    |    |    |\n",
      "+----+----+----+----+----+----+----+\n",
      "|    |    |    |    |    |    |    |\n",
      "+----+----+----+----+----+----+----+\n",
      "| 🟡 |    |    |    |    |    |    |\n",
      "+----+----+----+----+----+----+----+\n",
      "| 🟡 | 🔴 |    |    |    |    |    |\n",
      "+----+----+----+----+----+----+----+\n",
      "|  A |  B |  C |  D |  E |  F |  G |\n"
     ]
    },
    {
     "name": "stdin",
     "output_type": "stream",
     "text": [
      "Choose your column (A-G):  b\n"
     ]
    },
    {
     "name": "stdout",
     "output_type": "stream",
     "text": [
      "|    |    |    |    |    |    |    |\n",
      "+----+----+----+----+----+----+----+\n",
      "|    |    |    |    |    |    |    |\n",
      "+----+----+----+----+----+----+----+\n",
      "|    |    |    |    |    |    |    |\n",
      "+----+----+----+----+----+----+----+\n",
      "|    |    |    |    |    |    |    |\n",
      "+----+----+----+----+----+----+----+\n",
      "| 🟡 | 🔴 |    |    |    |    |    |\n",
      "+----+----+----+----+----+----+----+\n",
      "| 🟡 | 🔴 |    |    |    |    |    |\n",
      "+----+----+----+----+----+----+----+\n",
      "|  A |  B |  C |  D |  E |  F |  G |\n"
     ]
    },
    {
     "name": "stdin",
     "output_type": "stream",
     "text": [
      "Choose your column (A-G):  a\n"
     ]
    },
    {
     "name": "stdout",
     "output_type": "stream",
     "text": [
      "|    |    |    |    |    |    |    |\n",
      "+----+----+----+----+----+----+----+\n",
      "|    |    |    |    |    |    |    |\n",
      "+----+----+----+----+----+----+----+\n",
      "|    |    |    |    |    |    |    |\n",
      "+----+----+----+----+----+----+----+\n",
      "| 🟡 |    |    |    |    |    |    |\n",
      "+----+----+----+----+----+----+----+\n",
      "| 🟡 | 🔴 |    |    |    |    |    |\n",
      "+----+----+----+----+----+----+----+\n",
      "| 🟡 | 🔴 |    |    |    |    |    |\n",
      "+----+----+----+----+----+----+----+\n",
      "|  A |  B |  C |  D |  E |  F |  G |\n"
     ]
    },
    {
     "name": "stdin",
     "output_type": "stream",
     "text": [
      "Choose your column (A-G):  c\n"
     ]
    },
    {
     "name": "stdout",
     "output_type": "stream",
     "text": [
      "|    |    |    |    |    |    |    |\n",
      "+----+----+----+----+----+----+----+\n",
      "|    |    |    |    |    |    |    |\n",
      "+----+----+----+----+----+----+----+\n",
      "|    |    |    |    |    |    |    |\n",
      "+----+----+----+----+----+----+----+\n",
      "| 🟡 |    |    |    |    |    |    |\n",
      "+----+----+----+----+----+----+----+\n",
      "| 🟡 | 🔴 |    |    |    |    |    |\n",
      "+----+----+----+----+----+----+----+\n",
      "| 🟡 | 🔴 | 🔴 |    |    |    |    |\n",
      "+----+----+----+----+----+----+----+\n",
      "|  A |  B |  C |  D |  E |  F |  G |\n"
     ]
    },
    {
     "name": "stdin",
     "output_type": "stream",
     "text": [
      "Choose your column (A-G):  c\n"
     ]
    },
    {
     "name": "stdout",
     "output_type": "stream",
     "text": [
      "|    |    |    |    |    |    |    |\n",
      "+----+----+----+----+----+----+----+\n",
      "|    |    |    |    |    |    |    |\n",
      "+----+----+----+----+----+----+----+\n",
      "|    |    |    |    |    |    |    |\n",
      "+----+----+----+----+----+----+----+\n",
      "| 🟡 |    |    |    |    |    |    |\n",
      "+----+----+----+----+----+----+----+\n",
      "| 🟡 | 🔴 | 🟡 |    |    |    |    |\n",
      "+----+----+----+----+----+----+----+\n",
      "| 🟡 | 🔴 | 🔴 |    |    |    |    |\n",
      "+----+----+----+----+----+----+----+\n",
      "|  A |  B |  C |  D |  E |  F |  G |\n"
     ]
    },
    {
     "name": "stdin",
     "output_type": "stream",
     "text": [
      "Choose your column (A-G):  d\n"
     ]
    },
    {
     "name": "stdout",
     "output_type": "stream",
     "text": [
      "|    |    |    |    |    |    |    |\n",
      "+----+----+----+----+----+----+----+\n",
      "|    |    |    |    |    |    |    |\n",
      "+----+----+----+----+----+----+----+\n",
      "|    |    |    |    |    |    |    |\n",
      "+----+----+----+----+----+----+----+\n",
      "| 🟡 |    |    |    |    |    |    |\n",
      "+----+----+----+----+----+----+----+\n",
      "| 🟡 | 🔴 | 🟡 |    |    |    |    |\n",
      "+----+----+----+----+----+----+----+\n",
      "| 🟡 | 🔴 | 🔴 | 🔴 |    |    |    |\n",
      "+----+----+----+----+----+----+----+\n",
      "|  A |  B |  C |  D |  E |  F |  G |\n"
     ]
    },
    {
     "name": "stdin",
     "output_type": "stream",
     "text": [
      "Choose your column (A-G):  d\n"
     ]
    },
    {
     "name": "stdout",
     "output_type": "stream",
     "text": [
      "|    |    |    |    |    |    |    |\n",
      "+----+----+----+----+----+----+----+\n",
      "|    |    |    |    |    |    |    |\n",
      "+----+----+----+----+----+----+----+\n",
      "|    |    |    |    |    |    |    |\n",
      "+----+----+----+----+----+----+----+\n",
      "| 🟡 |    |    |    |    |    |    |\n",
      "+----+----+----+----+----+----+----+\n",
      "| 🟡 | 🔴 | 🟡 | 🟡 |    |    |    |\n",
      "+----+----+----+----+----+----+----+\n",
      "| 🟡 | 🔴 | 🔴 | 🔴 |    |    |    |\n",
      "+----+----+----+----+----+----+----+\n",
      "|  A |  B |  C |  D |  E |  F |  G |\n"
     ]
    },
    {
     "name": "stdin",
     "output_type": "stream",
     "text": [
      "Choose your column (A-G):  e\n"
     ]
    },
    {
     "name": "stdout",
     "output_type": "stream",
     "text": [
      "|    |    |    |    |    |    |    |\n",
      "+----+----+----+----+----+----+----+\n",
      "|    |    |    |    |    |    |    |\n",
      "+----+----+----+----+----+----+----+\n",
      "|    |    |    |    |    |    |    |\n",
      "+----+----+----+----+----+----+----+\n",
      "| 🟡 |    |    |    |    |    |    |\n",
      "+----+----+----+----+----+----+----+\n",
      "| 🟡 | 🔴 | 🟡 | 🟡 |    |    |    |\n",
      "+----+----+----+----+----+----+----+\n",
      "| 🟡 | 🔴 | 🔴 | 🔴 | 🔴 |    |    |\n",
      "+----+----+----+----+----+----+----+\n",
      "|  A |  B |  C |  D |  E |  F |  G |\n",
      "Congratulations! You have won the game :)\n"
     ]
    }
   ],
   "source": [
    "print(\"Welcome to Connect Four!\")\n",
    "while True: \n",
    "    a = [\"  \"] * 6\n",
    "    b = [\"  \"] * 6\n",
    "    c = [\"  \"] * 6\n",
    "    d = [\"  \"] * 6\n",
    "    e = [\"  \"] * 6\n",
    "    f = [\"  \"] * 6\n",
    "    g = [\"  \"] * 6\n",
    "\n",
    "# Create the grid\n",
    "    the_grid = [a, b, c, d, e, f, g]\n",
    "    player1_token, player2_token = player_input() # unpacking the tuple\n",
    "    turn = choose_first()\n",
    "    print(f\"{turn} will start\")\n",
    "\n",
    "    play_game = input(\"Are you ready to play? Y/N: \") # to start the game or not based on player choice\n",
    "    \n",
    "    if play_game.lower().startswith(\"y\"):\n",
    "        game_on = True \n",
    "    else: \n",
    "        game_on = False\n",
    "    while game_on: \n",
    "        if turn == \"Player 1\": \n",
    "            # logic for player1's turn \n",
    "            display_grid(the_grid) # first just display board \n",
    "            columns = player_choice(the_grid) # where to input the marker ------ TO DO: verify whether this is column_list\n",
    "            place_marker(the_grid, player1_token, columns) # pos is the value the player provides\n",
    "\n",
    "            if win_check(the_grid, player1_token): \n",
    "                display_grid(the_grid)\n",
    "                print(\"Congratulations! You have won the game :)\")\n",
    "                game_on = False # to exit the loop once we have won \n",
    "            else: \n",
    "                if full_grid_check(the_grid):\n",
    "                    display_grid(the_grid)\n",
    "                    print(\"The game was a draw\")\n",
    "                    break # breaking out of the while loop but it doesn't change game_on \n",
    "                else: \n",
    "                    turn = \"Player 2\" \n",
    "        \n",
    "        else: \n",
    "\n",
    "            display_grid(the_grid) # first just display board \n",
    "            columns = player_choice(the_grid) \n",
    "            place_marker(the_grid, player2_token, columns) # pos is the value the player provides\n",
    "\n",
    "            if win_check(the_grid, player2_token): \n",
    "                display_grid(the_grid)\n",
    "                print(\"Congratulations! You have won the game :)\")\n",
    "                game_on = False # to exit the loop once we have won \n",
    "            else: \n",
    "                if full_grid_check(the_grid):\n",
    "                    display_grid(the_grid)\n",
    "                    print(\"The game was a draw\")\n",
    "                    break # breaking out of the while loop but it doesn't change game_on \n",
    "                else: \n",
    "                    turn = \"Player 1\" \n",
    "\n",
    "    if not replay(): # TO DO: replay!!!\n",
    "        break \n",
    "\n",
    "              "
   ]
  },
  {
   "cell_type": "code",
   "execution_count": null,
   "id": "2151e9fa-eb07-49fa-b22e-b34786fcea80",
   "metadata": {},
   "outputs": [],
   "source": []
  },
  {
   "cell_type": "code",
   "execution_count": null,
   "id": "93adffa1-4371-4497-ac15-bfc04787e48a",
   "metadata": {},
   "outputs": [],
   "source": []
  }
 ],
 "metadata": {
  "kernelspec": {
   "display_name": "Python 3 (ipykernel)",
   "language": "python",
   "name": "python3"
  },
  "language_info": {
   "codemirror_mode": {
    "name": "ipython",
    "version": 3
   },
   "file_extension": ".py",
   "mimetype": "text/x-python",
   "name": "python",
   "nbconvert_exporter": "python",
   "pygments_lexer": "ipython3",
   "version": "3.12.4"
  }
 },
 "nbformat": 4,
 "nbformat_minor": 5
}
